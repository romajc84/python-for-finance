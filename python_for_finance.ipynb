{
  "nbformat": 4,
  "nbformat_minor": 0,
  "metadata": {
    "colab": {
      "name": "python-for-finance.ipynb",
      "provenance": [],
      "collapsed_sections": [],
      "authorship_tag": "ABX9TyPMtwPPruIFopxOPG4MmTyD",
      "include_colab_link": true
    },
    "kernelspec": {
      "name": "python3",
      "display_name": "Python 3"
    }
  },
  "cells": [
    {
      "cell_type": "markdown",
      "metadata": {
        "id": "view-in-github",
        "colab_type": "text"
      },
      "source": [
        "<a href=\"https://colab.research.google.com/github/romajc84/python-for-finance/blob/master/python_for_finance.ipynb\" target=\"_parent\"><img src=\"https://colab.research.google.com/assets/colab-badge.svg\" alt=\"Open In Colab\"/></a>"
      ]
    },
    {
      "cell_type": "code",
      "metadata": {
        "id": "jQ8UYpCZXlhD",
        "colab_type": "code",
        "colab": {}
      },
      "source": [
        "import datetime as dt\n",
        "import matplotlib.pyplot as plt\n",
        "from matplotlib import style\n",
        "import pandas as pd\n",
        "import pandas_datareader.data as web\n",
        "\n",
        "style.use('ggplot')\n",
        "start = dt.datetime(2000,1,1)\n",
        "end = dt.datetime(2016,12,31)\n",
        "df = web.DataReader('TSLA', 'yahoo', start, end)\n",
        "df.to_csv('tsla.csv')\n",
        "df = pd.read_csv('tsla.csv', parse_dates=True, index_col=0)\n",
        "\n"
      ],
      "execution_count": null,
      "outputs": []
    }
  ]
}